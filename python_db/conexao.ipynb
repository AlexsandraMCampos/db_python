{
 "cells": [
  {
   "cell_type": "code",
   "execution_count": 2,
   "metadata": {},
   "outputs": [
    {
     "name": "stdout",
     "output_type": "stream",
     "text": [
      "Requirement already satisfied: pyodbc in c:\\users\\instrutor\\appdata\\local\\programs\\python\\python313\\lib\\site-packages (5.2.0)\n",
      "Note: you may need to restart the kernel to use updated packages.\n"
     ]
    },
    {
     "name": "stderr",
     "output_type": "stream",
     "text": [
      "\n",
      "[notice] A new release of pip is available: 24.2 -> 24.3.1\n",
      "[notice] To update, run: python.exe -m pip install --upgrade pip\n"
     ]
    }
   ],
   "source": [
    "pip install pyodbc"
   ]
  },
  {
   "cell_type": "code",
   "execution_count": null,
   "metadata": {},
   "outputs": [
    {
     "name": "stdout",
     "output_type": "stream",
     "text": [
      "Conexao Bem Sucedida\n"
     ]
    }
   ],
   "source": [
    "# importando biblioteca pyodbc\n",
    "import pyodbc\n",
    "\n",
    "# criando dados de conexão:\n",
    "dados_conexao = (\n",
    "    \"Driver={SQL Server};\" # conexão ao servidor\n",
    "    \"Server=NOTEBOOK-CAR-02;\" # comando no cmd para achar o servidor hostname\n",
    "    \"Database=PythonSQL;\" #nome do meu banco de dados\n",
    ")\n",
    "\n",
    "#conectando:\n",
    "conexao = pyodbc.connect(dados_conexao) # procura no meu computador o banco de dados\n",
    "print(\"Conexao Bem Sucedida\")"
   ]
  },
  {
   "cell_type": "code",
   "execution_count": null,
   "metadata": {},
   "outputs": [],
   "source": [
    "# incluido registro id =2\n",
    "\n",
    "cursor = conexao.cursor() # Pedimos para fazer conexão\n",
    "\n",
    "comando = \"\"\"INSERT INTO Vendas (id_venda,data_venda,cliente,produto,preco,quantidade) \n",
    "VALUES  (2,'10/05/2022','Bruno', 'Notebook', 3500, 2),                                      \n",
    "        (3,'11/05/2022','Bia', 'Televisão', 3000, 3),\n",
    "        (4,'15/04/2022','Gabriela', 'Celular', 2500, 5)\"\"\"\n",
    "# para inserção no banco de dados precisamos adicionar 3 aspas duplas INSERT INTO NOME DO BANCO(COLUNAS) FECHA AS ASPAS DUPLAS\n",
    "cursor.execute(comando)\n",
    "\n",
    "cursor.commit()"
   ]
  },
  {
   "cell_type": "code",
   "execution_count": null,
   "metadata": {},
   "outputs": [],
   "source": [
    "# incluindo registro id = 4 (automatizando com variáveis)\n",
    "cursor = conexao.cursor()\n",
    "\n",
    "id = 4 #criamos um id\n",
    "data = \"17/06/2022\" # precisa usar aspas duplas\n",
    "cliente = \"Diego\"\n",
    "produto = \"Tablet\"\n",
    "preco = 1200\n",
    "quantidade = 1\n",
    "\n",
    "comando= f\"\"\"INSERT INTO Vendas(id_venda,data_venda,cliente,produto,preco,quantidade) VALUES\n",
    "({id},'{data}', '{cliente}','{produto}', {preco}, {quantidade})\"\"\" # precisa usar aspas simples entre strings\n",
    "\n",
    "cursor.execute(comando)\n",
    "cursor.commit()\n",
    "\n",
    "\n"
   ]
  },
  {
   "cell_type": "code",
   "execution_count": 15,
   "metadata": {},
   "outputs": [
    {
     "name": "stdout",
     "output_type": "stream",
     "text": [
      "Conexao Bem Sucedida\n"
     ]
    }
   ],
   "source": [
    "# importando biblioteca pyodbc\n",
    "import pyodbc\n",
    "\n",
    "# criando dados de conexão:\n",
    "dados_conexao = (\n",
    "    \"Driver={SQL Server};\" # conexão ao servidor\n",
    "    \"Server=NOTEBOOK-CAR-02;\" # comando no cmd para achar o servidor hostname\n",
    "    \"Database=ContosoRetailDW;\" #nome do meu banco de dados\n",
    ")\n",
    "\n",
    "#conectando:\n",
    "conexao = pyodbc.connect(dados_conexao) # procura no meu computador o banco de dados\n",
    "print(\"Conexao Bem Sucedida\")"
   ]
  }
 ],
 "metadata": {
  "kernelspec": {
   "display_name": "Python 3",
   "language": "python",
   "name": "python3"
  },
  "language_info": {
   "codemirror_mode": {
    "name": "ipython",
    "version": 3
   },
   "file_extension": ".py",
   "mimetype": "text/x-python",
   "name": "python",
   "nbconvert_exporter": "python",
   "pygments_lexer": "ipython3",
   "version": "3.13.0"
  }
 },
 "nbformat": 4,
 "nbformat_minor": 2
}
